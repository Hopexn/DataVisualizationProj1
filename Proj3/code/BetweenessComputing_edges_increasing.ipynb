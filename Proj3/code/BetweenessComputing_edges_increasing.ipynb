{
 "cells": [
  {
   "cell_type": "code",
   "execution_count": 1,
   "metadata": {},
   "outputs": [
    {
     "name": "stdout",
     "output_type": "stream",
     "text": [
      "Looking in indexes: https://pypi.tuna.tsinghua.edu.cn/simple\n",
      "Requirement already satisfied: networkx in /home/hpyan/.miniconda3/envs/tf2/lib/python3.7/site-packages (2.3)\n",
      "Requirement already satisfied: decorator>=4.3.0 in /home/hpyan/.miniconda3/envs/tf2/lib/python3.7/site-packages (from networkx) (4.4.0)\n"
     ]
    }
   ],
   "source": [
    "!pip install networkx"
   ]
  },
  {
   "cell_type": "code",
   "execution_count": 17,
   "metadata": {},
   "outputs": [],
   "source": [
    "import networkx as nx\n",
    "from queue import Queue"
   ]
  },
  {
   "cell_type": "code",
   "execution_count": null,
   "metadata": {},
   "outputs": [],
   "source": []
  },
  {
   "cell_type": "code",
   "execution_count": 18,
   "metadata": {},
   "outputs": [],
   "source": [
    "import numba\n",
    "import time\n",
    "from queue import Queue\n",
    "from tqdm import tqdm\n",
    "\n",
    "def calculate_betweenness(G):\n",
    "    \n",
    "    CB = dict.fromkeys(G, 0.0)   # 用于存储节点的Betweenness Centrality\n",
    "    \n",
    "    for s in tqdm(G.nodes()):\n",
    "        PreNode = {w : [] for w in G.nodes()}  # 用于存储每个节点的前置节点\n",
    "        dist = dict.fromkeys(G, None)          # 用于存储从s出发到一个节点的距离\n",
    "        sigma = dict.fromkeys(G, 0.0)          # 用于存储从s出发到一个节点的最短路径个\n",
    "        delta = dict.fromkeys(G, 0.0)          \n",
    "\n",
    "        sigma[s] = 1  # 起始节点的sigma(s)为1\n",
    "        dist[s] = 0   # 起始节点到自己的路径长度为0\n",
    "\n",
    "        S = []        # 用于优先的遍历顺序，因为后面需要根据遍历顺序反向逐步计算delta\n",
    "        Q = Queue()   # 用于宽度有限搜索\n",
    "        Q.put(s)      # 将初始节点放入队列中\n",
    "\n",
    "        while not Q.empty():\n",
    "            v = Q.get()                         # 从队列中取出一个节点\n",
    "            S.append(v)                         # 将其保存在遍历顺序记录数组中\n",
    "\n",
    "            for w in G.neighbors(v):           \n",
    "                if dist[w] is None:             # 如果该节点的dist为None, 那么说明它是第一次被访问\n",
    "                    Q.put(w)                    #   此时将其放入遍历队列\n",
    "                    dist[w] = dist[v] + 1       #   同时将其dist置为前一个节点的dist+1\n",
    "\n",
    "                if dist[w] == dist[v] + 1:      # 如果上一个在这个节点的最短路径上\n",
    "                    sigma[w] += sigma[v]        #   这个节点的sigma加上上个节点的sigma\n",
    "                    PreNode[w].append(v)        #   同时将上个节点记录到这个节点的前置节点列表中\n",
    "        \n",
    "        for w in S[::-1]:                       # 对记录反序遍历\n",
    "            for v in PreNode[w]:                # 从后往前计算delta\n",
    "                delta[v] += sigma[v] / sigma[w] * (1 + delta[w])\n",
    "\n",
    "            if w != s:\n",
    "                CB[w] += delta[w]\n",
    "\n",
    "    for v in CB:      # 因为从s到t 和 t到s计算了两次，因此Betweenness需要除以2\n",
    "        CB[v] /= 2.0\n",
    "        \n",
    "    return CB"
   ]
  },
  {
   "cell_type": "code",
   "execution_count": null,
   "metadata": {},
   "outputs": [],
   "source": []
  },
  {
   "cell_type": "code",
   "execution_count": 24,
   "metadata": {},
   "outputs": [],
   "source": [
    "def test(num_nodes, num_edges_per_node):\n",
    "    G = nx.random_graphs.gnm_random_graph(num_nodes, num_edges_per_node)\n",
    "    \n",
    "    time_start = time.time()     # 开始计时\n",
    "    BC = calculate_betweenness(G)\n",
    "    time_end = time.time()       # 结束计时\n",
    "\n",
    "    time_cost = time_end - time_start\n",
    "    return time_cost"
   ]
  },
  {
   "cell_type": "code",
   "execution_count": null,
   "metadata": {},
   "outputs": [],
   "source": []
  },
  {
   "cell_type": "code",
   "execution_count": 26,
   "metadata": {},
   "outputs": [
    {
     "name": "stderr",
     "output_type": "stream",
     "text": [
      "100%|██████████| 1000/1000 [00:00<00:00, 1445.83it/s]\n",
      "100%|██████████| 1000/1000 [00:00<00:00, 1507.77it/s]\n",
      "100%|██████████| 1000/1000 [00:00<00:00, 1765.60it/s]\n",
      "100%|██████████| 1000/1000 [00:00<00:00, 1761.78it/s]\n",
      "100%|██████████| 1000/1000 [00:00<00:00, 1285.29it/s]\n",
      "100%|██████████| 1000/1000 [00:00<00:00, 1452.93it/s]\n",
      "100%|██████████| 1000/1000 [00:00<00:00, 1466.78it/s]\n",
      "100%|██████████| 1000/1000 [00:00<00:00, 1445.90it/s]\n",
      "100%|██████████| 1000/1000 [00:00<00:00, 1460.98it/s]\n",
      "100%|██████████| 1000/1000 [00:00<00:00, 1231.69it/s]\n",
      "100%|██████████| 1000/1000 [00:00<00:00, 1423.72it/s]\n",
      "100%|██████████| 1000/1000 [00:00<00:00, 1416.75it/s]\n",
      "100%|██████████| 1000/1000 [00:00<00:00, 1375.85it/s]\n",
      "100%|██████████| 1000/1000 [00:00<00:00, 1403.33it/s]\n",
      "100%|██████████| 1000/1000 [00:00<00:00, 1567.45it/s]\n",
      "100%|██████████| 1000/1000 [00:00<00:00, 1274.46it/s]\n",
      "100%|██████████| 1000/1000 [00:00<00:00, 1431.92it/s]\n",
      "100%|██████████| 1000/1000 [00:00<00:00, 1439.84it/s]\n",
      "100%|██████████| 1000/1000 [00:00<00:00, 1438.06it/s]\n",
      "100%|██████████| 1000/1000 [00:00<00:00, 1341.61it/s]\n",
      "100%|██████████| 1000/1000 [00:00<00:00, 1264.32it/s]\n",
      "100%|██████████| 1000/1000 [00:00<00:00, 1405.95it/s]\n",
      "100%|██████████| 1000/1000 [00:00<00:00, 1454.34it/s]\n",
      "100%|██████████| 1000/1000 [00:00<00:00, 1409.26it/s]\n",
      "100%|██████████| 1000/1000 [00:00<00:00, 1405.46it/s]\n",
      "100%|██████████| 1000/1000 [00:00<00:00, 1419.08it/s]\n",
      "100%|██████████| 1000/1000 [00:00<00:00, 1430.14it/s]\n",
      "100%|██████████| 1000/1000 [00:00<00:00, 1418.48it/s]\n",
      "100%|██████████| 1000/1000 [00:00<00:00, 1426.11it/s]\n",
      "100%|██████████| 1000/1000 [00:00<00:00, 1451.15it/s]\n",
      "100%|██████████| 1000/1000 [00:00<00:00, 1438.27it/s]\n",
      "100%|██████████| 1000/1000 [00:00<00:00, 1600.21it/s]\n",
      "100%|██████████| 1000/1000 [00:00<00:00, 1458.64it/s]\n",
      "100%|██████████| 1000/1000 [00:00<00:00, 1443.54it/s]\n",
      "100%|██████████| 1000/1000 [00:00<00:00, 1440.16it/s]\n",
      "100%|██████████| 1000/1000 [00:00<00:00, 1444.07it/s]\n",
      "100%|██████████| 1000/1000 [00:00<00:00, 1393.30it/s]\n",
      "100%|██████████| 1000/1000 [00:00<00:00, 1386.47it/s]\n",
      "100%|██████████| 1000/1000 [00:00<00:00, 1394.51it/s]\n",
      "100%|██████████| 1000/1000 [00:00<00:00, 1548.81it/s]\n"
     ]
    }
   ],
   "source": [
    "import matplotlib.pyplot as plt\n",
    "%matplotlib inline\n",
    "\n",
    "time_cost_list = []\n",
    "\n",
    "# 边不变，节点变化\n",
    "num_nodes = 1000\n",
    "num_edges_list = range(5, 201, 5)\n",
    "\n",
    "for num_edges_per_node in num_edges_list:\n",
    "    time_cost = test(num_nodes, num_edges_per_node)\n",
    "    time_cost_list.append(time_cost)"
   ]
  },
  {
   "cell_type": "code",
   "execution_count": 27,
   "metadata": {},
   "outputs": [
    {
     "data": {
      "text/plain": [
       "[<matplotlib.lines.Line2D at 0x7fed4b98cf98>]"
      ]
     },
     "execution_count": 27,
     "metadata": {},
     "output_type": "execute_result"
    },
    {
     "data": {
      "image/png": "[encoded data removed]",
      "text/plain": [
       "<Figure size 432x288 with 1 Axes>"
      ]
     },
     "metadata": {
      "needs_background": "light"
     },
     "output_type": "display_data"
    }
   ],
   "source": [
    "plt.plot(time_cost_list)"
   ]
  },
  {
   "cell_type": "code",
   "execution_count": 8,
   "metadata": {},
   "outputs": [
    {
     "name": "stderr",
     "output_type": "stream",
     "text": [
      "100%|██████████| 1000/1000 [00:22<00:00, 43.77it/s]\n",
      "100%|██████████| 1000/1000 [00:22<00:00, 38.15it/s]\n",
      "100%|██████████| 1000/1000 [00:22<00:00, 43.26it/s]\n",
      "100%|██████████| 1000/1000 [00:22<00:00, 42.90it/s]\n",
      "100%|██████████| 1000/1000 [00:22<00:00, 43.79it/s]\n",
      "100%|██████████| 1000/1000 [00:23<00:00, 38.50it/s]\n",
      "100%|██████████| 1000/1000 [00:23<00:00, 42.54it/s]\n",
      "100%|██████████| 1000/1000 [00:25<00:00, 39.32it/s]\n",
      "100%|██████████| 1000/1000 [00:25<00:00, 39.50it/s]\n",
      "100%|██████████| 1000/1000 [00:25<00:00, 40.39it/s]\n"
     ]
    },
    {
     "data": {
      "text/plain": [
       "[<matplotlib.lines.Line2D at 0x7fed4b8d66a0>]"
      ]
     },
     "execution_count": 8,
     "metadata": {},
     "output_type": "execute_result"
    },
    {
     "data": {
      "image/png": "[encoded data removed]",
      "text/plain": [
       "<Figure size 432x288 with 1 Axes>"
      ]
     },
     "metadata": {
      "needs_background": "light"
     },
     "output_type": "display_data"
    }
   ],
   "source": [
    "num_nodes = 1000\n",
    "num_edges_list = range(20, 30)\n",
    "\n",
    "for num_edges_per_node in num_edges_list:\n",
    "    time_cost = test(num_nodes, num_edges_per_node)\n",
    "    time_cost_list.append(time_cost)\n",
    "\n",
    "plt.plot(time_cost_list)"
   ]
  },
  {
   "cell_type": "code",
   "execution_count": 10,
   "metadata": {},
   "outputs": [
    {
     "name": "stderr",
     "output_type": "stream",
     "text": [
      "100%|██████████| 1000/1000 [01:02<00:00, 17.02it/s]"
     ]
    },
    {
     "name": "stdout",
     "output_type": "stream",
     "text": [
      "62.13469982147217\n"
     ]
    },
    {
     "name": "stderr",
     "output_type": "stream",
     "text": [
      "\n"
     ]
    }
   ],
   "source": [
    "num_edges_per_node = 100\n",
    "time_cost = test(num_nodes, num_edges_per_node)\n",
    "print(time_cost)"
   ]
  },
  {
   "cell_type": "code",
   "execution_count": 11,
   "metadata": {},
   "outputs": [
    {
     "name": "stderr",
     "output_type": "stream",
     "text": [
      "100%|██████████| 1000/1000 [01:55<00:00,  9.54it/s]"
     ]
    },
    {
     "name": "stdout",
     "output_type": "stream",
     "text": [
      "115.69800853729248\n"
     ]
    },
    {
     "name": "stderr",
     "output_type": "stream",
     "text": [
      "\n"
     ]
    }
   ],
   "source": [
    "num_edges_per_node = 200\n",
    "time_cost = test(num_nodes, num_edges_per_node)\n",
    "print(time_cost)"
   ]
  },
  {
   "cell_type": "code",
   "execution_count": 12,
   "metadata": {},
   "outputs": [],
   "source": [
    "G = nx.random_graphs.barabasi_albert_graph(10, 2)"
   ]
  },
  {
   "cell_type": "code",
   "execution_count": 16,
   "metadata": {},
   "outputs": [
    {
     "data": {
      "text/plain": [
       "{0: 1.9,\n",
       " 1: 2.7333333333333334,\n",
       " 2: 16.6,\n",
       " 3: 7.533333333333333,\n",
       " 4: 4.866666666666667,\n",
       " 5: 0.5,\n",
       " 6: 2.7333333333333334,\n",
       " 7: 0.5,\n",
       " 8: 2.6333333333333333,\n",
       " 9: 0.0}"
      ]
     },
     "execution_count": 16,
     "metadata": {},
     "output_type": "execute_result"
    }
   ],
   "source": []
  },
  {
   "cell_type": "code",
   "execution_count": null,
   "metadata": {},
   "outputs": [],
   "source": []
  }
 ],
 "metadata": {
  "kernelspec": {
   "display_name": "Python 3",
   "language": "python",
   "name": "python3"
  },
  "language_info": {
   "codemirror_mode": {
    "name": "ipython",
    "version": 3
   },
   "file_extension": ".py",
   "mimetype": "text/x-python",
   "name": "python",
   "nbconvert_exporter": "python",
   "pygments_lexer": "ipython3",
   "version": "3.7.3"
  },
  "varInspector": {
   "cols": {
    "lenName": 16,
    "lenType": 16,
    "lenVar": 40
   },
   "kernels_config": {
    "python": {
     "delete_cmd_postfix": "",
     "delete_cmd_prefix": "del ",
     "library": "var_list.py",
     "varRefreshCmd": "print(var_dic_list())"
    },
    "r": {
     "delete_cmd_postfix": ") ",
     "delete_cmd_prefix": "rm(",
     "library": "var_list.r",
     "varRefreshCmd": "cat(var_dic_list()) "
    }
   },
   "types_to_exclude": [
    "module",
    "function",
    "builtin_function_or_method",
    "instance",
    "_Feature"
   ],
   "window_display": false
  }
 },
 "nbformat": 4,
 "nbformat_minor": 2
}
