{
 "cells": [
  {
   "cell_type": "code",
   "execution_count": 1,
   "metadata": {},
   "outputs": [
    {
     "name": "stdout",
     "output_type": "stream",
     "text": [
      "Looking in indexes: https://pypi.tuna.tsinghua.edu.cn/simple\n",
      "Requirement already satisfied: networkx in /home/hpyan/.miniconda3/envs/tf2/lib/python3.7/site-packages (2.3)\n",
      "Requirement already satisfied: decorator>=4.3.0 in /home/hpyan/.miniconda3/envs/tf2/lib/python3.7/site-packages (from networkx) (4.4.0)\n"
     ]
    }
   ],
   "source": [
    "!pip install networkx"
   ]
  },
  {
   "cell_type": "code",
   "execution_count": 2,
   "metadata": {},
   "outputs": [],
   "source": [
    "import networkx as nx\n",
    "from queue import Queue"
   ]
  },
  {
   "cell_type": "code",
   "execution_count": null,
   "metadata": {},
   "outputs": [],
   "source": []
  },
  {
   "cell_type": "code",
   "execution_count": 3,
   "metadata": {},
   "outputs": [],
   "source": [
    "import numba\n",
    "import time\n",
    "from queue import Queue\n",
    "from tqdm import tqdm\n",
    "\n",
    "def calculate_betweenness(G):\n",
    "    \n",
    "    CB = dict.fromkeys(G, 0.0)   # 用于存储节点的Betweenness Centrality\n",
    "    \n",
    "    for s in tqdm(G.nodes()):\n",
    "        PreNode = {w : [] for w in G.nodes()}  # 用于存储每个节点的前置节点\n",
    "        dist = dict.fromkeys(G, None)          # 用于存储从s出发到一个节点的距离\n",
    "        sigma = dict.fromkeys(G, 0.0)          # 用于存储从s出发到一个节点的最短路径个\n",
    "        delta = dict.fromkeys(G, 0.0)          \n",
    "\n",
    "        sigma[s] = 1  # 起始节点的sigma(s)为1\n",
    "        dist[s] = 0   # 起始节点到自己的路径长度为0\n",
    "\n",
    "        S = []        # 用于优先的遍历顺序，因为后面需要根据遍历顺序反向逐步计算delta\n",
    "        Q = Queue()   # 用于宽度有限搜索\n",
    "        Q.put(s)      # 将初始节点放入队列中\n",
    "\n",
    "        while not Q.empty():\n",
    "            v = Q.get()                         # 从队列中取出一个节点\n",
    "            S.append(v)                         # 将其保存在遍历顺序记录数组中\n",
    "\n",
    "            for w in G.neighbors(v):           \n",
    "                if dist[w] is None:             # 如果该节点的dist为None, 那么说明它是第一次被访问\n",
    "                    Q.put(w)                    #   此时将其放入遍历队列\n",
    "                    dist[w] = dist[v] + 1       #   同时将其dist置为前一个节点的dist+1\n",
    "\n",
    "                if dist[w] == dist[v] + 1:      # 如果上一个在这个节点的最短路径上\n",
    "                    sigma[w] += sigma[v]        #   这个节点的sigma加上上个节点的sigma\n",
    "                    PreNode[w].append(v)        #   同时将上个节点记录到这个节点的前置节点列表中\n",
    "        \n",
    "        for w in S[::-1]:                       # 对记录反序遍历\n",
    "            for v in PreNode[w]:                # 从后往前计算delta\n",
    "                delta[v] += sigma[v] / sigma[w] * (1 + delta[w])\n",
    "\n",
    "            if w != s:\n",
    "                CB[w] += delta[w]\n",
    "\n",
    "    for v in CB:      # 因为从s到t 和 t到s计算了两次，因此Betweenness需要除以2\n",
    "        CB[v] /= 2.0\n",
    "        \n",
    "    return CB"
   ]
  },
  {
   "cell_type": "code",
   "execution_count": 4,
   "metadata": {},
   "outputs": [],
   "source": []
  },
  {
   "cell_type": "code",
   "execution_count": 7,
   "metadata": {},
   "outputs": [],
   "source": [
    "def test(num_nodes, num_edges_per_node):\n",
    "    G = nx.random_graphs.barabasi_albert_graph(num_nodes, num_edges_per_node)\n",
    "    \n",
    "    time_start = time.time()     # 开始计时\n",
    "    BC = calculate_betweenness(G)\n",
    "    time_end = time.time()       # 结束计时\n",
    "\n",
    "    time_cost = time_end - time_start\n",
    "    return time_cost"
   ]
  },
  {
   "cell_type": "code",
   "execution_count": 8,
   "metadata": {},
   "outputs": [],
   "source": []
  },
  {
   "cell_type": "code",
   "execution_count": 17,
   "metadata": {},
   "outputs": [
    {
     "name": "stderr",
     "output_type": "stream",
     "text": [
      "100%|██████████| 100/100 [00:00<00:00, 544.29it/s]\n",
      "100%|██████████| 200/200 [00:00<00:00, 314.09it/s]\n",
      "100%|██████████| 300/300 [00:01<00:00, 248.28it/s]\n",
      "100%|██████████| 400/400 [00:02<00:00, 186.49it/s]\n",
      "100%|██████████| 500/500 [00:03<00:00, 148.30it/s]\n",
      "100%|██████████| 600/600 [00:05<00:00, 119.25it/s]\n",
      "100%|██████████| 700/700 [00:06<00:00, 101.09it/s]\n",
      "100%|██████████| 800/800 [00:08<00:00, 91.19it/s]\n",
      "100%|██████████| 900/900 [00:11<00:00, 78.36it/s]\n",
      "100%|██████████| 1000/1000 [00:13<00:00, 72.65it/s]\n",
      "100%|██████████| 1100/1100 [00:17<00:00, 63.38it/s]\n",
      "100%|██████████| 1200/1200 [00:20<00:00, 59.94it/s]\n",
      "100%|██████████| 1300/1300 [00:23<00:00, 54.63it/s]\n",
      "100%|██████████| 1400/1400 [00:27<00:00, 50.05it/s]\n",
      "100%|██████████| 1500/1500 [00:32<00:00, 46.49it/s]\n",
      "100%|██████████| 1600/1600 [00:37<00:00, 42.62it/s]\n",
      "100%|██████████| 1700/1700 [00:42<00:00, 39.54it/s]\n",
      "100%|██████████| 1800/1800 [00:46<00:00, 40.61it/s]\n",
      "100%|██████████| 1900/1900 [00:51<00:00, 37.05it/s]\n"
     ]
    }
   ],
   "source": [
    "import matplotlib.pyplot as plt\n",
    "%matplotlib inline\n",
    "\n",
    "time_cost_list = []\n",
    "\n",
    "# 边不变，节点变化\n",
    "num_edges_per_node = 5\n",
    "num_nodes_list = range(100, 2000, 100)\n",
    "\n",
    "for num_nodes in num_nodes_list:\n",
    "    time_cost = test(num_nodes, num_edges_per_node)\n",
    "    time_cost_list.append(time_cost)"
   ]
  },
  {
   "cell_type": "code",
   "execution_count": 18,
   "metadata": {},
   "outputs": [
    {
     "data": {
      "text/plain": [
       "[<matplotlib.lines.Line2D at 0x7f43b7a6da90>]"
      ]
     },
     "execution_count": 18,
     "metadata": {},
     "output_type": "execute_result"
    },
    {
     "data": {
      "image/png": "[encoded data removed]",
      "text/plain": [
       "<Figure size 432x288 with 1 Axes>"
      ]
     },
     "metadata": {
      "needs_background": "light"
     },
     "output_type": "display_data"
    }
   ],
   "source": [
    "plt.plot(time_cost_list)"
   ]
  },
  {
   "cell_type": "code",
   "execution_count": null,
   "metadata": {},
   "outputs": [],
   "source": [
    "num_nodes_list = range(2000, 3000, 100)\n",
    "\n",
    "for num_nodes in num_nodes_list:\n",
    "    time_cost = test(num_nodes, num_edges_per_node)\n",
    "    time_cost_list.append(time_cost)"
   ]
  },
  {
   "cell_type": "code",
   "execution_count": 20,
   "metadata": {},
   "outputs": [
    {
     "data": {
      "text/plain": [
       "[<matplotlib.lines.Line2D at 0x7f43b7b176d8>]"
      ]
     },
     "execution_count": 20,
     "metadata": {},
     "output_type": "execute_result"
    },
    {
     "data": {
      "image/png": "[encoded data removed]",
      "text/plain": [
       "<Figure size 432x288 with 1 Axes>"
      ]
     },
     "metadata": {
      "needs_background": "light"
     },
     "output_type": "display_data"
    }
   ],
   "source": [
    "plt.plot(range(100, 3000, 100), time_cost_list)"
   ]
  },
  {
   "cell_type": "code",
   "execution_count": null,
   "metadata": {},
   "outputs": [],
   "source": []
  },
  {
   "cell_type": "code",
   "execution_count": null,
   "metadata": {},
   "outputs": [],
   "source": []
  },
  {
   "cell_type": "code",
   "execution_count": null,
   "metadata": {},
   "outputs": [],
   "source": []
  },
  {
   "cell_type": "code",
   "execution_count": null,
   "metadata": {},
   "outputs": [],
   "source": []
  },
  {
   "cell_type": "code",
   "execution_count": null,
   "metadata": {},
   "outputs": [],
   "source": []
  },
  {
   "cell_type": "code",
   "execution_count": null,
   "metadata": {},
   "outputs": [],
   "source": []
  }
 ],
 "metadata": {
  "kernelspec": {
   "display_name": "Python 3",
   "language": "python",
   "name": "python3"
  },
  "language_info": {
   "codemirror_mode": {
    "name": "ipython",
    "version": 3
   },
   "file_extension": ".py",
   "mimetype": "text/x-python",
   "name": "python",
   "nbconvert_exporter": "python",
   "pygments_lexer": "ipython3",
   "version": "3.7.3"
  },
  "varInspector": {
   "cols": {
    "lenName": 16,
    "lenType": 16,
    "lenVar": 40
   },
   "kernels_config": {
    "python": {
     "delete_cmd_postfix": "",
     "delete_cmd_prefix": "del ",
     "library": "var_list.py",
     "varRefreshCmd": "print(var_dic_list())"
    },
    "r": {
     "delete_cmd_postfix": ") ",
     "delete_cmd_prefix": "rm(",
     "library": "var_list.r",
     "varRefreshCmd": "cat(var_dic_list()) "
    }
   },
   "types_to_exclude": [
    "module",
    "function",
    "builtin_function_or_method",
    "instance",
    "_Feature"
   ],
   "window_display": false
  }
 },
 "nbformat": 4,
 "nbformat_minor": 2
}
