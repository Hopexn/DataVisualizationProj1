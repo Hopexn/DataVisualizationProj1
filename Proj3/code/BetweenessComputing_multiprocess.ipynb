{
 "cells": [
  {
   "cell_type": "code",
   "execution_count": 1,
   "metadata": {},
   "outputs": [
    {
     "name": "stdout",
     "output_type": "stream",
     "text": [
      "Looking in indexes: https://pypi.tuna.tsinghua.edu.cn/simple\n",
      "Requirement already satisfied: networkx in /home/hpyan/.miniconda3/envs/tf2/lib/python3.7/site-packages (2.3)\n",
      "Requirement already satisfied: decorator>=4.3.0 in /home/hpyan/.miniconda3/envs/tf2/lib/python3.7/site-packages (from networkx) (4.4.0)\n"
     ]
    }
   ],
   "source": [
    "!pip install networkx\n",
    "!pip install threadpool"
   ]
  },
  {
   "cell_type": "code",
   "execution_count": 1,
   "metadata": {},
   "outputs": [],
   "source": [
    "import networkx as nx\n",
    "from queue import Queue"
   ]
  },
  {
   "cell_type": "code",
   "execution_count": null,
   "metadata": {},
   "outputs": [],
   "source": []
  },
  {
   "cell_type": "code",
   "execution_count": 2,
   "metadata": {},
   "outputs": [],
   "source": [
    "import numba\n",
    "import time\n",
    "from queue import Queue\n",
    "from tqdm import tqdm\n",
    "\n",
    "def my_task(params):\n",
    "    G = params['G']\n",
    "    s = params['s']\n",
    "    \n",
    "    CB = dict.fromkeys(G, 0.0)\n",
    "    \n",
    "    PreNode = {w : [] for w in G.nodes()}  # 用于存储每个节点的前置节点\n",
    "    dist = dict.fromkeys(G, None)          # 用于存储从s出发到一个节点的距离\n",
    "    sigma = dict.fromkeys(G, 0.0)          # 用于存储从s出发到一个节点的最短路径个\n",
    "    delta = dict.fromkeys(G, 0.0)          \n",
    "\n",
    "    sigma[s] = 1  # 起始节点的sigma(s)为1\n",
    "    dist[s] = 0   # 起始节点到自己的路径长度为0\n",
    "\n",
    "    S = []        # 用于优先的遍历顺序，因为后面需要根据遍历顺序反向逐步计算delta\n",
    "    Q = Queue()   # 用于宽度有限搜索\n",
    "    Q.put(s)      # 将初始节点放入队列中\n",
    "\n",
    "    while not Q.empty():\n",
    "        v = Q.get()                         # 从队列中取出一个节点\n",
    "        S.append(v)                         # 将其保存在遍历顺序记录数组中\n",
    "\n",
    "        for w in G.neighbors(v):           \n",
    "            if dist[w] is None:             # 如果该节点的dist为None, 那么说明它是第一次被访问\n",
    "                Q.put(w)                    #   此时将其放入遍历队列\n",
    "                dist[w] = dist[v] + 1       #   同时将其dist置为前一个节点的dist+1\n",
    "\n",
    "            if dist[w] == dist[v] + 1:      # 如果上一个在这个节点的最短路径上\n",
    "                sigma[w] += sigma[v]        #   这个节点的sigma加上上个节点的sigma\n",
    "                PreNode[w].append(v)        #   同时将上个节点记录到这个节点的前置节点列表中\n",
    "\n",
    "    for w in S[::-1]:                       # 对记录反序遍历\n",
    "        for v in PreNode[w]:                # 从后往前计算delta\n",
    "            delta[v] += sigma[v] / sigma[w] * (1 + delta[w])\n",
    "\n",
    "        if w != s:\n",
    "            CB[w] += delta[w]\n",
    "    \n",
    "    return CB"
   ]
  },
  {
   "cell_type": "code",
   "execution_count": 3,
   "metadata": {},
   "outputs": [],
   "source": [
    "def calculate_betweenness(G, pool):\n",
    "    params = [{\"s\": s, \"G\": G} for s in G.nodes()]\n",
    "    \n",
    "    results = pool.map(my_task, params)\n",
    "    \n",
    "    CB = dict.fromkeys(G, 0.0)\n",
    "    \n",
    "    for v in CB:\n",
    "        for result in results:\n",
    "            CB[v] += result[v]\n",
    "        CB[v] /= 2.0    # 因为从s到t 和 t到s计算了两次，因此Betweenness需要除以2\n",
    "    \n",
    "    return CB"
   ]
  },
  {
   "cell_type": "code",
   "execution_count": 4,
   "metadata": {},
   "outputs": [],
   "source": [
    "def test(num_nodes, num_edges_per_node, pool):\n",
    "    G = nx.random_graphs.barabasi_albert_graph(num_nodes, num_edges_per_node)\n",
    "    \n",
    "    time_start = time.time()     # 开始计时\n",
    "    BC = calculate_betweenness(G, pool)\n",
    "    time_end = time.time()       # 结束计时\n",
    "\n",
    "    time_cost = time_end - time_start\n",
    "    return time_cost"
   ]
  },
  {
   "cell_type": "code",
   "execution_count": 5,
   "metadata": {},
   "outputs": [],
   "source": [
    "import threading\n",
    "from multiprocessing import Pool #多线程版本"
   ]
  },
  {
   "cell_type": "code",
   "execution_count": 6,
   "metadata": {},
   "outputs": [
    {
     "data": {
      "application/vnd.jupyter.widget-view+json": {
       "model_id": "02e73c9759994087a86b9ef4ca462cd1",
       "version_major": 2,
       "version_minor": 0
      },
      "text/plain": [
       "HBox(children=(IntProgress(value=0, max=20), HTML(value='')))"
      ]
     },
     "metadata": {},
     "output_type": "display_data"
    },
    {
     "name": "stdout",
     "output_type": "stream",
     "text": [
      "\n"
     ]
    }
   ],
   "source": [
    "from tqdm import tnrange\n",
    "time_cost_list = []\n",
    "for n_process in tnrange(1, 21):\n",
    "    pool = Pool(processes=n_process)\n",
    "    time_cost = test(4000, 10, pool)\n",
    "    time_cost_list.append(time_cost)"
   ]
  },
  {
   "cell_type": "code",
   "execution_count": 13,
   "metadata": {},
   "outputs": [
    {
     "data": {
      "text/plain": [
       "Text(0, 0.5, 'Speed up')"
      ]
     },
     "execution_count": 13,
     "metadata": {},
     "output_type": "execute_result"
    },
    {
     "data": {
      "image/png": "[encoded data removed]",
      "text/plain": [
       "<Figure size 432x288 with 1 Axes>"
      ]
     },
     "metadata": {
      "needs_background": "light"
     },
     "output_type": "display_data"
    }
   ],
   "source": [
    "import matplotlib.pyplot as plt\n",
    "%matplotlib inline\n",
    "\n",
    "time_cost_list2 = [time_cost_list[0] / t for t in time_cost_list]\n",
    "\n",
    "plt.plot(time_cost_list2)\n",
    "plt.xlabel(\"Processors\")\n",
    "plt.ylabel(\"Speed up\")"
   ]
  },
  {
   "cell_type": "code",
   "execution_count": null,
   "metadata": {},
   "outputs": [],
   "source": []
  }
 ],
 "metadata": {
  "kernelspec": {
   "display_name": "Python 3",
   "language": "python",
   "name": "python3"
  },
  "language_info": {
   "codemirror_mode": {
    "name": "ipython",
    "version": 3
   },
   "file_extension": ".py",
   "mimetype": "text/x-python",
   "name": "python",
   "nbconvert_exporter": "python",
   "pygments_lexer": "ipython3",
   "version": "3.7.3"
  },
  "varInspector": {
   "cols": {
    "lenName": 16,
    "lenType": 16,
    "lenVar": 40
   },
   "kernels_config": {
    "python": {
     "delete_cmd_postfix": "",
     "delete_cmd_prefix": "del ",
     "library": "var_list.py",
     "varRefreshCmd": "print(var_dic_list())"
    },
    "r": {
     "delete_cmd_postfix": ") ",
     "delete_cmd_prefix": "rm(",
     "library": "var_list.r",
     "varRefreshCmd": "cat(var_dic_list()) "
    }
   },
   "types_to_exclude": [
    "module",
    "function",
    "builtin_function_or_method",
    "instance",
    "_Feature"
   ],
   "window_display": false
  }
 },
 "nbformat": 4,
 "nbformat_minor": 2
}
