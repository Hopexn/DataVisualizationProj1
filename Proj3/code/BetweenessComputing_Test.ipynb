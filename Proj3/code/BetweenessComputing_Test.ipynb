{
 "cells": [
  {
   "cell_type": "code",
   "execution_count": 1,
   "metadata": {},
   "outputs": [
    {
     "name": "stdout",
     "output_type": "stream",
     "text": [
      "Looking in indexes: https://pypi.tuna.tsinghua.edu.cn/simple\n",
      "Requirement already satisfied: networkx in /home/hpyan/.miniconda3/envs/tf2/lib/python3.7/site-packages (2.3)\n",
      "Requirement already satisfied: decorator>=4.3.0 in /home/hpyan/.miniconda3/envs/tf2/lib/python3.7/site-packages (from networkx) (4.4.0)\n"
     ]
    }
   ],
   "source": [
    "!pip install networkx"
   ]
  },
  {
   "cell_type": "code",
   "execution_count": 1,
   "metadata": {},
   "outputs": [],
   "source": [
    "import networkx as nx\n",
    "from queue import Queue\n",
    "import numba\n",
    "import time\n",
    "from tqdm import tqdm\n",
    "import matplotlib.pyplot as plt\n",
    "%matplotlib inline"
   ]
  },
  {
   "cell_type": "code",
   "execution_count": null,
   "metadata": {},
   "outputs": [],
   "source": []
  },
  {
   "cell_type": "code",
   "execution_count": 2,
   "metadata": {},
   "outputs": [],
   "source": [
    "def save_graph(G, filename):\n",
    "    f = open(filename, \"w\")\n",
    "    \n",
    "    offsets = []\n",
    "    vertices = []\n",
    "\n",
    "    offsets.append(0)\n",
    "\n",
    "    offset = 0\n",
    "    for node in G.nodes():\n",
    "        V = G.neighbors(node)\n",
    "        for v in V:\n",
    "            vertices.append(v)\n",
    "            offset += 1\n",
    "        offsets.append(offset)\n",
    "    \n",
    "    num_nodes = len(G.nodes())\n",
    "    num_edges = len(G.edges())\n",
    "    \n",
    "    print(num_nodes, num_edges, file=f)\n",
    "    for off in offsets:\n",
    "        print(off, end=' ', file=f)\n",
    "    print(file=f)\n",
    "    for v in vertices:\n",
    "        print(v, end=' ', file=f)\n",
    "    \n",
    "    f.close()"
   ]
  },
  {
   "cell_type": "code",
   "execution_count": 3,
   "metadata": {},
   "outputs": [],
   "source": [
    "base_path = \"/home/hpyan/DataVisualization/BetweennessCentrality/\""
   ]
  },
  {
   "cell_type": "code",
   "execution_count": 38,
   "metadata": {},
   "outputs": [
    {
     "name": "stderr",
     "output_type": "stream",
     "text": [
      "100%|██████████| 30/30 [00:01<00:00, 17.41it/s]\n"
     ]
    }
   ],
   "source": [
    "# 边不变，节点变化\n",
    "num_nodes_list = range(1000, 30001, 1000)\n",
    "num_edges = 1000\n",
    "\n",
    "for num_nodes in tqdm(num_nodes_list):\n",
    "    G = nx.random_graphs.gnm_random_graph(num_nodes, num_edges)\n",
    "    graph_path = base_path + \"testcase/{}_{}.g\".format(num_nodes, num_edges)\n",
    "    save_graph(G, graph_path)"
   ]
  },
  {
   "cell_type": "code",
   "execution_count": 39,
   "metadata": {},
   "outputs": [],
   "source": [
    "def test(program, graph_path):\n",
    "    graph_bc_result = graph_path[:-1] + \"bc\"\n",
    "    time_cost  = !./BetweennessCentrality/BC_$program $graph_path $graph_bc_result\n",
    "    time_cost = float(time_cost[0]) / 1000.0\n",
    "    return time_cost"
   ]
  },
  {
   "cell_type": "code",
   "execution_count": 40,
   "metadata": {},
   "outputs": [],
   "source": [
    "test_result = {}"
   ]
  },
  {
   "cell_type": "code",
   "execution_count": 41,
   "metadata": {},
   "outputs": [
    {
     "name": "stderr",
     "output_type": "stream",
     "text": [
      "100%|██████████| 30/30 [00:26<00:00,  2.06s/it]\n"
     ]
    }
   ],
   "source": [
    "# 串行版本\n",
    "\n",
    "time_cost_list = []\n",
    "\n",
    "for num_nodes in tqdm(num_nodes_list):\n",
    "    graph_path = base_path + \"testcase/{}_{}.g\".format(num_nodes, num_edges)\n",
    "    time_cost = test(\"serial\", graph_path)\n",
    "    time_cost_list.append(time_cost)\n",
    "\n",
    "test_result[\"serial\"] = time_cost_list"
   ]
  },
  {
   "cell_type": "code",
   "execution_count": 42,
   "metadata": {},
   "outputs": [
    {
     "name": "stderr",
     "output_type": "stream",
     "text": [
      "100%|██████████| 30/30 [00:29<00:00,  1.45s/it]\n"
     ]
    }
   ],
   "source": [
    "# 点并行\n",
    "\n",
    "time_cost_list = []\n",
    "\n",
    "for num_nodes in tqdm(num_nodes_list):\n",
    "    graph_path = base_path + \"testcase/{}_{}.g\".format(num_nodes, num_edges)\n",
    "    time_cost = test(\"parallel_vertex\", graph_path)\n",
    "    time_cost_list.append(time_cost)\n",
    "\n",
    "test_result[\"parallel_vertex\"] = time_cost_list"
   ]
  },
  {
   "cell_type": "code",
   "execution_count": 43,
   "metadata": {},
   "outputs": [
    {
     "name": "stderr",
     "output_type": "stream",
     "text": [
      "100%|██████████| 30/30 [00:27<00:00,  1.60s/it]\n"
     ]
    }
   ],
   "source": [
    "# 边并行\n",
    "time_cost_list = []\n",
    "\n",
    "for num_nodes in tqdm(num_nodes_list):\n",
    "    graph_path = base_path + \"testcase/{}_{}.g\".format(num_nodes, num_edges)\n",
    "    time_cost = test(\"parallel_edge\", graph_path)\n",
    "    time_cost_list.append(time_cost)\n",
    "\n",
    "test_result[\"parallel_edge\"] = time_cost_list"
   ]
  },
  {
   "cell_type": "code",
   "execution_count": 44,
   "metadata": {},
   "outputs": [
    {
     "name": "stderr",
     "output_type": "stream",
     "text": [
      "100%|██████████| 30/30 [00:24<00:00,  1.05it/s]\n"
     ]
    }
   ],
   "source": [
    "# work\n",
    "time_cost_list = []\n",
    "\n",
    "for num_nodes in tqdm(num_nodes_list):\n",
    "    graph_path = base_path + \"testcase/{}_{}.g\".format(num_nodes, num_edges)\n",
    "    time_cost = test(\"parallel_work\", graph_path)\n",
    "    time_cost_list.append(time_cost)\n",
    "\n",
    "test_result[\"parallel_work\"] = time_cost_list"
   ]
  },
  {
   "cell_type": "code",
   "execution_count": 45,
   "metadata": {},
   "outputs": [
    {
     "name": "stderr",
     "output_type": "stream",
     "text": [
      "100%|██████████| 30/30 [00:23<00:00,  1.21it/s]\n"
     ]
    }
   ],
   "source": [
    "# work coarse\n",
    "\n",
    "time_cost_list = []\n",
    "\n",
    "for num_nodes in tqdm(num_nodes_list):\n",
    "    graph_path = base_path + \"testcase/{}_{}.g\".format(num_nodes, num_edges)\n",
    "    time_cost = test(\"parallel_work_coarse\", graph_path)\n",
    "    time_cost_list.append(time_cost)\n",
    "\n",
    "test_result[\"parallel_work_coarse\"] = time_cost_list"
   ]
  },
  {
   "cell_type": "code",
   "execution_count": 54,
   "metadata": {},
   "outputs": [
    {
     "data": {
      "text/plain": [
       "Text(0, 0.5, 'time(second)')"
      ]
     },
     "execution_count": 54,
     "metadata": {},
     "output_type": "execute_result"
    },
    {
     "data": {
      "image/png": "[encoded data removed]",
      "text/plain": [
       "<Figure size 432x288 with 1 Axes>"
      ]
     },
     "metadata": {
      "needs_background": "light"
     },
     "output_type": "display_data"
    }
   ],
   "source": [
    "for name in test_result:\n",
    "    plt.plot(num_nodes_list, test_result[name], label=name)\n",
    "plt.legend()\n",
    "plt.xlabel(\"number of nodes\")\n",
    "plt.ylabel(\"time(second)\")"
   ]
  },
  {
   "cell_type": "code",
   "execution_count": 47,
   "metadata": {},
   "outputs": [],
   "source": [
    "test_result2 = {}\n",
    "test_result2[\"串行\"] = test_result['serial']\n",
    "test_result2[\"节点并行\"] = test_result['parallel_vertex']\n",
    "test_result2[\"边并行\"] = test_result['parallel_edge']\n",
    "test_result2[\"高效并行\"] = test_result['parallel_work']\n",
    "test_result2[\"混合法\"] = test_result['parallel_work_coarse']"
   ]
  },
  {
   "cell_type": "code",
   "execution_count": 51,
   "metadata": {},
   "outputs": [
    {
     "data": {
      "text/plain": [
       "Text(0.5, 0, '时间(秒)')"
      ]
     },
     "execution_count": 51,
     "metadata": {},
     "output_type": "execute_result"
    },
    {
     "data": {
      "image/png": "[encoded data removed]",
      "text/plain": [
       "<Figure size 432x288 with 1 Axes>"
      ]
     },
     "metadata": {
      "needs_background": "light"
     },
     "output_type": "display_data"
    }
   ],
   "source": [
    "for name in test_result2:\n",
    "    plt.plot(num_nodes_list, test_result2[name], label=name)\n",
    "plt.legend()\n"
   ]
  },
  {
   "cell_type": "code",
   "execution_count": null,
   "metadata": {},
   "outputs": [],
   "source": []
  },
  {
   "cell_type": "code",
   "execution_count": null,
   "metadata": {},
   "outputs": [],
   "source": []
  },
  {
   "cell_type": "code",
   "execution_count": null,
   "metadata": {},
   "outputs": [],
   "source": []
  },
  {
   "cell_type": "code",
   "execution_count": null,
   "metadata": {},
   "outputs": [],
   "source": []
  },
  {
   "cell_type": "code",
   "execution_count": null,
   "metadata": {},
   "outputs": [],
   "source": []
  },
  {
   "cell_type": "code",
   "execution_count": null,
   "metadata": {},
   "outputs": [],
   "source": []
  },
  {
   "cell_type": "code",
   "execution_count": 18,
   "metadata": {},
   "outputs": [
    {
     "name": "stderr",
     "output_type": "stream",
     "text": [
      "100%|██████████| 30/30 [00:01<00:00, 15.56it/s]\n"
     ]
    }
   ],
   "source": [
    "# 边不变，节点变化\n",
    "num_nodes_list = range(1000, 30001, 1000)\n",
    "num_edges = 10\n",
    "\n",
    "for num_nodes in tqdm(num_nodes_list):\n",
    "    G = nx.random_graphs.gnm_random_graph(num_nodes, num_edges)\n",
    "    graph_path = base_path + \"testcase/{}_{}.g\".format(num_nodes, num_edges)\n",
    "    save_graph(G, graph_path)"
   ]
  },
  {
   "cell_type": "code",
   "execution_count": null,
   "metadata": {},
   "outputs": [],
   "source": []
  },
  {
   "cell_type": "code",
   "execution_count": 19,
   "metadata": {},
   "outputs": [
    {
     "name": "stderr",
     "output_type": "stream",
     "text": [
      "100%|██████████| 30/30 [00:27<00:00,  2.09s/it]\n"
     ]
    }
   ],
   "source": [
    "time_cost_list = []\n",
    "\n",
    "for num_nodes in tqdm(num_nodes_list):\n",
    "    graph_path = base_path + \"testcase/{}_{}.g\".format(num_nodes, num_edges)\n",
    "    time_cost = test(\"serial\", graph_path)\n",
    "    time_cost_list.append(time_cost)"
   ]
  },
  {
   "cell_type": "code",
   "execution_count": 25,
   "metadata": {},
   "outputs": [
    {
     "data": {
      "text/plain": [
       "Text(0, 0.5, 'time(second)')"
      ]
     },
     "execution_count": 25,
     "metadata": {},
     "output_type": "execute_result"
    },
    {
     "data": {
      "image/png": "[encoded data removed]",
      "text/plain": [
       "<Figure size 432x288 with 1 Axes>"
      ]
     },
     "metadata": {
      "needs_background": "light"
     },
     "output_type": "display_data"
    }
   ],
   "source": [
    "plt.plot(num_nodes_list, time_cost_list)\n",
    "plt.xlabel(\"number of nodes\")\n",
    "plt.ylabel(\"time(second)\")"
   ]
  },
  {
   "cell_type": "code",
   "execution_count": null,
   "metadata": {},
   "outputs": [],
   "source": []
  },
  {
   "cell_type": "code",
   "execution_count": 24,
   "metadata": {},
   "outputs": [
    {
     "name": "stderr",
     "output_type": "stream",
     "text": [
      "100%|██████████| 30/30 [00:00<00:00, 44.51it/s]\n"
     ]
    }
   ],
   "source": [
    "\n",
    "num_nodes = 2000\n",
    "num_edges_list = range(100, 3001, 100)\n",
    "\n",
    "for num_edges in tqdm(num_edges_list):\n",
    "    G = nx.random_graphs.gnm_random_graph(num_nodes, num_edges)\n",
    "    graph_path = base_path + \"testcase/{}_{}.g\".format(num_nodes, num_edges)\n",
    "    save_graph(G, graph_path)"
   ]
  },
  {
   "cell_type": "code",
   "execution_count": 28,
   "metadata": {},
   "outputs": [
    {
     "name": "stderr",
     "output_type": "stream",
     "text": [
      "100%|██████████| 30/30 [00:04<00:00,  3.24it/s]\n"
     ]
    }
   ],
   "source": [
    "time_cost_list = []\n",
    "\n",
    "for num_edges in tqdm(num_edges_list):\n",
    "    graph_path = base_path + \"testcase/{}_{}.g\".format(num_nodes, num_edges)\n",
    "    time_cost = test(\"serial\", graph_path)\n",
    "    time_cost_list.append(time_cost)"
   ]
  },
  {
   "cell_type": "code",
   "execution_count": 29,
   "metadata": {},
   "outputs": [
    {
     "data": {
      "text/plain": [
       "Text(0, 0.5, 'time(second)')"
      ]
     },
     "execution_count": 29,
     "metadata": {},
     "output_type": "execute_result"
    },
    {
     "data": {
      "image/png": "[encoded data removed]",
      "text/plain": [
       "<Figure size 432x288 with 1 Axes>"
      ]
     },
     "metadata": {
      "needs_background": "light"
     },
     "output_type": "display_data"
    }
   ],
   "source": [
    "plt.plot(num_nodes_list, time_cost_list)\n",
    "plt.xlabel(\"number of edges\")\n",
    "plt.ylabel(\"time(second)\")"
   ]
  },
  {
   "cell_type": "code",
   "execution_count": null,
   "metadata": {},
   "outputs": [],
   "source": []
  }
 ],
 "metadata": {
  "kernelspec": {
   "display_name": "Python 3",
   "language": "python",
   "name": "python3"
  },
  "language_info": {
   "codemirror_mode": {
    "name": "ipython",
    "version": 3
   },
   "file_extension": ".py",
   "mimetype": "text/x-python",
   "name": "python",
   "nbconvert_exporter": "python",
   "pygments_lexer": "ipython3",
   "version": "3.7.3"
  },
  "varInspector": {
   "cols": {
    "lenName": 16,
    "lenType": 16,
    "lenVar": 40
   },
   "kernels_config": {
    "python": {
     "delete_cmd_postfix": "",
     "delete_cmd_prefix": "del ",
     "library": "var_list.py",
     "varRefreshCmd": "print(var_dic_list())"
    },
    "r": {
     "delete_cmd_postfix": ") ",
     "delete_cmd_prefix": "rm(",
     "library": "var_list.r",
     "varRefreshCmd": "cat(var_dic_list()) "
    }
   },
   "types_to_exclude": [
    "module",
    "function",
    "builtin_function_or_method",
    "instance",
    "_Feature"
   ],
   "window_display": false
  }
 },
 "nbformat": 4,
 "nbformat_minor": 2
}
